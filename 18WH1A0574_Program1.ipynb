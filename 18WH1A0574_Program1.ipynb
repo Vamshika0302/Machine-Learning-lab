{
  "nbformat": 4,
  "nbformat_minor": 0,
  "metadata": {
    "colab": {
      "name": "18WH1A0574_Program1.ipynb",
      "provenance": [],
      "authorship_tag": "ABX9TyNjNUCE9inLb/fkS5PCmOog",
      "include_colab_link": true
    },
    "kernelspec": {
      "name": "python3",
      "display_name": "Python 3"
    },
    "language_info": {
      "name": "python"
    }
  },
  "cells": [
    {
      "cell_type": "markdown",
      "metadata": {
        "id": "view-in-github",
        "colab_type": "text"
      },
      "source": [
        "<a href=\"https://colab.research.google.com/github/Vamshika0302/Machine-Learning-lab/blob/main/18WH1A0574_Program1.ipynb\" target=\"_parent\"><img src=\"https://colab.research.google.com/assets/colab-badge.svg\" alt=\"Open In Colab\"/></a>"
      ]
    },
    {
      "cell_type": "code",
      "metadata": {
        "colab": {
          "base_uri": "https://localhost:8080/"
        },
        "id": "VtTCX8305Cnh",
        "outputId": "42ffe13c-383c-4501-c4b0-6da51eef78f8"
      },
      "source": [
        "probStudAbsentAndFriday = 0.03\n",
        "probFriday =0.2\n",
        "bayesResult = (probStudAbsentAndFriday/probFriday)\n",
        "print (bayesResult *100)"
      ],
      "execution_count": 1,
      "outputs": [
        {
          "output_type": "stream",
          "text": [
            "15.0\n"
          ],
          "name": "stdout"
        }
      ]
    }
  ]
}