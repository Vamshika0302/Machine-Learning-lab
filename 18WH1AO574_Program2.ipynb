{
  "nbformat": 4,
  "nbformat_minor": 0,
  "metadata": {
    "colab": {
      "name": "18WH1AO574_Program2.ipynb",
      "provenance": [],
      "authorship_tag": "ABX9TyPhTGozxFC6tRpnF+ELC6OC",
      "include_colab_link": true
    },
    "kernelspec": {
      "name": "python3",
      "display_name": "Python 3"
    },
    "language_info": {
      "name": "python"
    }
  },
  "cells": [
    {
      "cell_type": "markdown",
      "metadata": {
        "id": "view-in-github",
        "colab_type": "text"
      },
      "source": [
        "<a href=\"https://colab.research.google.com/github/Vamshika0302/Machine-Learning-lab/blob/main/18WH1AO574_Program2.ipynb\" target=\"_parent\"><img src=\"https://colab.research.google.com/assets/colab-badge.svg\" alt=\"Open In Colab\"/></a>"
      ]
    },
    {
      "cell_type": "code",
      "metadata": {
        "id": "TNqWxo4Y7oTd"
      },
      "source": [
        "#!pip install db-sqlite3\n",
        "import sqlite3"
      ],
      "execution_count": 5,
      "outputs": []
    },
    {
      "cell_type": "code",
      "metadata": {
        "colab": {
          "base_uri": "https://localhost:8080/"
        },
        "id": "YXpSmsKS8B1X",
        "outputId": "64816ca1-c6b1-4b78-d9d2-0b47add17080"
      },
      "source": [
        "conn=sqlite3.connect('LabProgram2.db')\n",
        "cur=conn.cursor()\n",
        "conn=sqlite3.connect('test.db')\n",
        "print(\"Opened database successfully\");"
      ],
      "execution_count": 6,
      "outputs": [
        {
          "output_type": "stream",
          "text": [
            "Opened database successfully\n"
          ],
          "name": "stdout"
        }
      ]
    },
    {
      "cell_type": "code",
      "metadata": {
        "colab": {
          "base_uri": "https://localhost:8080/"
        },
        "id": "oci1WCjY8HKR",
        "outputId": "70164144-9f14-4585-e11f-0eb6f1f66a75"
      },
      "source": [
        "conn.execute('''CREATE TABLE COMPANY\n",
        "         (ID INT PRIMARY KEY     NOT NULL,\n",
        "         NAME           TEXT    NOT NULL,\n",
        "         AGE            INT     NOT NULL,\n",
        "         ADDRESS        CHAR(50),\n",
        "         SALARY         REAL);''')\n",
        "print(\"Table created successfully\");"
      ],
      "execution_count": 7,
      "outputs": [
        {
          "output_type": "stream",
          "text": [
            "Table created successfully\n"
          ],
          "name": "stdout"
        }
      ]
    },
    {
      "cell_type": "code",
      "metadata": {
        "colab": {
          "base_uri": "https://localhost:8080/"
        },
        "id": "zDbkh11Y8LnK",
        "outputId": "08e90a31-d7a3-439d-ab76-baeeb33e2b6c"
      },
      "source": [
        "conn.execute(\"INSERT INTO COMPANY (ID,NAME,AGE,ADDRESS,SALARY) \\\n",
        "      VALUES (1, 'Paul', 32, 'California', 20000.00)\");\n",
        "conn.execute(\"INSERT INTO COMPANY (ID,NAME,AGE,ADDRESS,SALARY) \\\n",
        "      VALUES (2, 'Alien', 25, 'Texas', 15000.00)\");\n",
        "conn.execute(\"INSERT INTO COMPANY (ID,NAME,AGE,ADDRESS,SALARY) \\\n",
        "      VALUES (3, 'Teddy', 23, 'Norway', 20000.00)\");\n",
        "conn.execute(\"INSERT INTO COMPANY (ID,NAME,AGE,ADDRESS,SALARY) \\\n",
        "      VALUES (4, 'Mark', 25, 'Rich-Mond', 65000.00)\");\n",
        "\n",
        "conn.commit()\n",
        "print (\"Records created successfully\");"
      ],
      "execution_count": 8,
      "outputs": [
        {
          "output_type": "stream",
          "text": [
            "Records created successfully\n"
          ],
          "name": "stdout"
        }
      ]
    },
    {
      "cell_type": "code",
      "metadata": {
        "colab": {
          "base_uri": "https://localhost:8080/"
        },
        "id": "JsuyYd3U8QiY",
        "outputId": "d67bdb03-2c71-4628-d46f-bdd663957854"
      },
      "source": [
        "for row in conn.execute('select * from COMPANY'):\n",
        "        print(row)"
      ],
      "execution_count": 9,
      "outputs": [
        {
          "output_type": "stream",
          "text": [
            "(1, 'Paul', 32, 'California', 20000.0)\n",
            "(2, 'Alien', 25, 'Texas', 15000.0)\n",
            "(3, 'Teddy', 23, 'Norway', 20000.0)\n",
            "(4, 'Mark', 25, 'Rich-Mond', 65000.0)\n"
          ],
          "name": "stdout"
        }
      ]
    },
    {
      "cell_type": "code",
      "metadata": {
        "id": "JyKurZ5f8VK_"
      },
      "source": [
        "conn.commit()"
      ],
      "execution_count": 10,
      "outputs": []
    },
    {
      "cell_type": "code",
      "metadata": {
        "id": "TGRqkwj28X3r"
      },
      "source": [
        "conn.close()"
      ],
      "execution_count": 11,
      "outputs": []
    },
    {
      "cell_type": "code",
      "metadata": {
        "id": "nd3ZiGD28gv4"
      },
      "source": [
        ""
      ],
      "execution_count": null,
      "outputs": []
    }
  ]
}